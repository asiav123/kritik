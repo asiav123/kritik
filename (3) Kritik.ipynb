{
 "cells": [
  {
   "cell_type": "code",
   "execution_count": 24,
   "id": "e0f4a8f7-ead4-48ce-babc-d078563588ee",
   "metadata": {},
   "outputs": [
    {
     "name": "stdout",
     "output_type": "stream",
     "text": [
      "-1e-10\n",
      "1e-10\n"
     ]
    }
   ],
   "source": [
    "import numpy as np\n",
    "def f(x):\n",
    "    return np.exp(x)\n",
    "c=0\n",
    "E=0.01\n",
    "n=100\n",
    "x1=c\n",
    "x2=c\n",
    "deltax=10**(-8)\n",
    "d=0.0000000001\n",
    "def f_prime(x):\n",
    "    return (f(x+deltax-f(x-deltax))/(2*deltax))\n",
    "def L(x):\n",
    "    return f(c)+f_prime(c)*(x-c)\n",
    "for i in range(n): \n",
    "    x1=x1-d\n",
    "    if abs(f(x1)-L(x1)) <= E:\n",
    "        print (x1)\n",
    "        break\n",
    "else:\n",
    "    print(\"There is no such x1 that exists\")\n",
    "    \n",
    "for i in range (n):\n",
    "    x2=x2+d\n",
    "    if abs(f(x2)-L(x2)) <= E:\n",
    "        print (x2)\n",
    "        break\n",
    "else:\n",
    "    print (\"There is no such x2 that exists\")"
   ]
  }
 ],
 "metadata": {
  "kernelspec": {
   "display_name": "Python 3 (ipykernel)",
   "language": "python",
   "name": "python3"
  },
  "language_info": {
   "codemirror_mode": {
    "name": "ipython",
    "version": 3
   },
   "file_extension": ".py",
   "mimetype": "text/x-python",
   "name": "python",
   "nbconvert_exporter": "python",
   "pygments_lexer": "ipython3",
   "version": "3.11.4"
  }
 },
 "nbformat": 4,
 "nbformat_minor": 5
}
