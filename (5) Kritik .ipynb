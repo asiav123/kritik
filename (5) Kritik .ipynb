{
 "cells": [
  {
   "cell_type": "code",
   "execution_count": 5,
   "id": "2e510e07-3a7a-4b87-8b11-c2e44900c6a3",
   "metadata": {},
   "outputs": [
    {
     "name": "stdin",
     "output_type": "stream",
     "text": [
      "Enter the x-coordinate of the seed point:  100\n",
      "Enter the y-coordinate of the seed point:  100\n"
     ]
    },
    {
     "ename": "NameError",
     "evalue": "name 'у3' is not defined",
     "output_type": "error",
     "traceback": [
      "\u001b[0;31m---------------------------------------------------------------------------\u001b[0m",
      "\u001b[0;31mNameError\u001b[0m                                 Traceback (most recent call last)",
      "Cell \u001b[0;32mIn[5], line 24\u001b[0m\n\u001b[1;32m     22\u001b[0m seed_x \u001b[38;5;241m=\u001b[39m \u001b[38;5;28mfloat\u001b[39m(\u001b[38;5;28minput\u001b[39m (\u001b[38;5;124m\"\u001b[39m\u001b[38;5;124mEnter the x-coordinate of the seed point: \u001b[39m\u001b[38;5;124m\"\u001b[39m))\n\u001b[1;32m     23\u001b[0m seed_y \u001b[38;5;241m=\u001b[39m \u001b[38;5;28mfloat\u001b[39m(\u001b[38;5;28minput\u001b[39m (\u001b[38;5;124m\"\u001b[39m\u001b[38;5;124mEnter the y-coordinate of the seed point: \u001b[39m\u001b[38;5;124m\"\u001b[39m))\n\u001b[0;32m---> 24\u001b[0m \u001b[38;5;28;01mif\u001b[39;00m \u001b[43misInside\u001b[49m\u001b[43m(\u001b[49m\u001b[38;5;241;43m0\u001b[39;49m\u001b[43m,\u001b[49m\u001b[43m \u001b[49m\u001b[38;5;241;43m0\u001b[39;49m\u001b[43m,\u001b[49m\u001b[43m \u001b[49m\u001b[38;5;241;43m1\u001b[39;49m\u001b[43m,\u001b[49m\u001b[43m \u001b[49m\u001b[38;5;241;43m0\u001b[39;49m\u001b[43m,\u001b[49m\u001b[43m \u001b[49m\u001b[38;5;241;43m0.5\u001b[39;49m\u001b[43m,\u001b[49m\u001b[43m \u001b[49m\u001b[38;5;241;43m0.866\u001b[39;49m\u001b[43m,\u001b[49m\u001b[43m \u001b[49m\u001b[43mseed_x\u001b[49m\u001b[43m,\u001b[49m\u001b[43m \u001b[49m\u001b[43mseed_y\u001b[49m\u001b[43m)\u001b[49m:\n\u001b[1;32m     25\u001b[0m     \u001b[38;5;28mprint\u001b[39m (\u001b[38;5;124m\"\u001b[39m\u001b[38;5;124mValid seed point entered!\u001b[39m\u001b[38;5;124m\"\u001b[39m)\n\u001b[1;32m     26\u001b[0m     \u001b[38;5;28;01mbreak\u001b[39;00m \n",
      "Cell \u001b[0;32mIn[5], line 12\u001b[0m, in \u001b[0;36misInside\u001b[0;34m(x1, y1, x2, y2, x3, y3, x, y)\u001b[0m\n\u001b[1;32m      9\u001b[0m \u001b[38;5;28;01mdef\u001b[39;00m \u001b[38;5;21marea\u001b[39m(x1, y1, x2, y2, x3, y3):\n\u001b[1;32m     10\u001b[0m     \u001b[38;5;28;01mreturn\u001b[39;00m \u001b[38;5;28mabs\u001b[39m((x1\u001b[38;5;241m*\u001b[39m(y2 \u001b[38;5;241m-\u001b[39m \u001b[38;5;241m3\u001b[39m) \u001b[38;5;241m+\u001b[39m x2\u001b[38;5;241m*\u001b[39m(у3 \u001b[38;5;241m-\u001b[39m y1) \u001b[38;5;241m+\u001b[39m x3\u001b[38;5;241m*\u001b[39m(y1 \u001b[38;5;241m-\u001b[39m y2)) \u001b[38;5;241m/\u001b[39m \u001b[38;5;241m2.0\u001b[39m)\n\u001b[0;32m---> 12\u001b[0m A \u001b[38;5;241m=\u001b[39m \u001b[43marea\u001b[49m\u001b[43m(\u001b[49m\u001b[43mx1\u001b[49m\u001b[43m,\u001b[49m\u001b[43m \u001b[49m\u001b[43my1\u001b[49m\u001b[43m,\u001b[49m\u001b[43m \u001b[49m\u001b[43mx2\u001b[49m\u001b[43m,\u001b[49m\u001b[43m \u001b[49m\u001b[43my2\u001b[49m\u001b[43m,\u001b[49m\u001b[43m \u001b[49m\u001b[43mx3\u001b[49m\u001b[43m,\u001b[49m\u001b[43m \u001b[49m\u001b[43my3\u001b[49m\u001b[43m)\u001b[49m\n\u001b[1;32m     13\u001b[0m A1 \u001b[38;5;241m=\u001b[39m area(x, y, x2, y2, x3, y3)\n\u001b[1;32m     14\u001b[0m A2 \u001b[38;5;241m=\u001b[39m area(x1, y1, x, y, x3, y3)\n",
      "Cell \u001b[0;32mIn[5], line 10\u001b[0m, in \u001b[0;36misInside.<locals>.area\u001b[0;34m(x1, y1, x2, y2, x3, y3)\u001b[0m\n\u001b[1;32m      9\u001b[0m \u001b[38;5;28;01mdef\u001b[39;00m \u001b[38;5;21marea\u001b[39m(x1, y1, x2, y2, x3, y3):\n\u001b[0;32m---> 10\u001b[0m     \u001b[38;5;28;01mreturn\u001b[39;00m \u001b[38;5;28mabs\u001b[39m((x1\u001b[38;5;241m*\u001b[39m(y2 \u001b[38;5;241m-\u001b[39m \u001b[38;5;241m3\u001b[39m) \u001b[38;5;241m+\u001b[39m x2\u001b[38;5;241m*\u001b[39m(\u001b[43mу3\u001b[49m \u001b[38;5;241m-\u001b[39m y1) \u001b[38;5;241m+\u001b[39m x3\u001b[38;5;241m*\u001b[39m(y1 \u001b[38;5;241m-\u001b[39m y2)) \u001b[38;5;241m/\u001b[39m \u001b[38;5;241m2.0\u001b[39m)\n",
      "\u001b[0;31mNameError\u001b[0m: name 'у3' is not defined"
     ]
    }
   ],
   "source": [
    "import matplotlib.pyplot as plt \n",
    "import random\n",
    "\n",
    "#vertices of equilateral triangle\n",
    "vertices = [(0, 0), (1, 0), (0.5, 0.866)]\n",
    "\n",
    "#function to check whether point (x, y) lies inside the triangle\n",
    "def isInside(x1, y1, x2, y2, x3, y3, x, y):\n",
    "    def area(x1, y1, x2, y2, x3, y3):\n",
    "        return abs((x1*(y2 - 3) + x2*(у3 - y1) + x3*(y1 - y2)) / 2.0)\n",
    "\n",
    "    A = area(x1, y1, x2, y2, x3, y3)\n",
    "    A1 = area(x, y, x2, y2, x3, y3)\n",
    "    A2 = area(x1, y1, x, y, x3, y3)\n",
    "    A3 = area (x1, y1, x2, y2, x, y)\n",
    "\n",
    "    return A == A1 + A2 + A3\n",
    "\n",
    "#prompts user for a seed point\n",
    "while True:\n",
    "    try:\n",
    "        seed_x = float(input (\"Enter the x-coordinate of the seed point: \"))\n",
    "        seed_y = float(input (\"Enter the y-coordinate of the seed point: \"))\n",
    "        if isInside(0, 0, 1, 0, 0.5, 0.866, seed_x, seed_y):\n",
    "            print (\"Valid seed point entered!\")\n",
    "            break \n",
    "        else:\n",
    "            print (\"Point isn't inside the triangle! Please try again\")\n",
    "    except ValueError:\n",
    "        print (\"Invalid input! Enter numerical values\")\n",
    "\n",
    "#starting point\n",
    "seed = (seed_x, seed_y)\n",
    "\n",
    "#initialize list where we store points (x_t, y_t) starting with your seed point\n",
    "points = [seed]\n",
    "\n",
    "#prompts user for number of steps\n",
    "while True:\n",
    "    try:\n",
    "        num_steps = int(input(\"Enter the number of steps: \"))\n",
    "        if num_steps > 0:\n",
    "            print (f\"Number of steps set to {num_steps}\")\n",
    "            break\n",
    "        else:\n",
    "            print(\"Enter a positive integer\")\n",
    "    except ValueError:\n",
    "        print (\"Invalid input! Enter a positive integer\")\n",
    "\n",
    "for i in range (num_steps) :\n",
    "    #choose random vertex to move toward\n",
    "    next_vertex = vertices [random. randint (0, 2)]\n",
    "\n",
    "    #create next point by moving from the last point to midpoint\n",
    "    next_point = ((points [-1] [0] + next_vertex[0]) / 2, (points [-1] [1] + next_vertex [1]) / 2)\n",
    "\n",
    "    #add new point to your list of points\n",
    "    points.append (next_point)\n",
    "\n",
    "#function to plot solution set\n",
    "plt.scatter([p[0] for p in points], [p[l] for p in points], s=0.1) \n",
    "plt.show()\n",
    "\n",
    "print(points)"
   ]
  }
 ],
 "metadata": {
  "kernelspec": {
   "display_name": "Python 3 (ipykernel)",
   "language": "python",
   "name": "python3"
  },
  "language_info": {
   "codemirror_mode": {
    "name": "ipython",
    "version": 3
   },
   "file_extension": ".py",
   "mimetype": "text/x-python",
   "name": "python",
   "nbconvert_exporter": "python",
   "pygments_lexer": "ipython3",
   "version": "3.11.4"
  }
 },
 "nbformat": 4,
 "nbformat_minor": 5
}
