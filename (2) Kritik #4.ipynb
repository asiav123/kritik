{
 "cells": [
  {
   "cell_type": "code",
   "execution_count": 8,
   "id": "6ef70b27-48ad-4da1-b557-3db9ff6a18bc",
   "metadata": {},
   "outputs": [
    {
     "name": "stdout",
     "output_type": "stream",
     "text": [
      "The root is 0.2698741375\n",
      "The root is 0.8336061944\n",
      "The root is 3.1415926536\n",
      "Bisection method does not work.\n"
     ]
    },
    {
     "name": "stderr",
     "output_type": "stream",
     "text": [
      "<string>:1: RuntimeWarning: divide by zero encountered in log\n"
     ]
    }
   ],
   "source": [
    "import numpy as np\n",
    "\n",
    "def bisection_method (f, a, b): \n",
    "    def func(x):\n",
    "        func=eval(f) \n",
    "        return func \n",
    "    if func(a) * func(b)>0:\n",
    "        print (\"Bisection method does not work.\") \n",
    "    else: \n",
    "        while abs(b-a)>=10**-10:\n",
    "            M=(a+b)/2\n",
    "            if func(M) * func(b)<0:\n",
    "                a=M\n",
    "            else:\n",
    "                b=M\n",
    "\n",
    "        y=round (M,10)\n",
    "        print ('The root is', y) \n",
    "\n",
    "bisection_method('np.exp(x)+np.log(x)', 0, 1)\n",
    "bisection_method('np.arctan(x)-x**2', 0, 2)\n",
    "bisection_method('np.sin(x)/np.log(x)', 3, 4)\n",
    "bisection_method('np.log(np.cos(x))', 5, 7)\n"
   ]
  },
  {
   "cell_type": "code",
   "execution_count": null,
   "id": "b48fb9a1-1521-4f77-a1be-d3ff37eb811b",
   "metadata": {},
   "outputs": [],
   "source": []
  }
 ],
 "metadata": {
  "kernelspec": {
   "display_name": "Python 3 (ipykernel)",
   "language": "python",
   "name": "python3"
  },
  "language_info": {
   "codemirror_mode": {
    "name": "ipython",
    "version": 3
   },
   "file_extension": ".py",
   "mimetype": "text/x-python",
   "name": "python",
   "nbconvert_exporter": "python",
   "pygments_lexer": "ipython3",
   "version": "3.11.4"
  }
 },
 "nbformat": 4,
 "nbformat_minor": 5
}
