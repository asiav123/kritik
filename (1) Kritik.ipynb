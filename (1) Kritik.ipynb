{
 "cells": [
  {
   "cell_type": "code",
   "execution_count": 1,
   "id": "90c5a4df-573e-48ee-9ffd-41ea06d114df",
   "metadata": {},
   "outputs": [
    {
     "name": "stdin",
     "output_type": "stream",
     "text": [
      "Input value for x:  0\n"
     ]
    },
    {
     "name": "stdout",
     "output_type": "stream",
     "text": [
      "(0, 1, 0.0)\n"
     ]
    }
   ],
   "source": [
    "anything = float(input(\"Input value for x: \"))\n",
    "\n",
    "def kritik(x):\n",
    "    n = 0\n",
    "    a = 0\n",
    "    error_bound = (x**(2*n+1))/(2*n+1)\n",
    "    \n",
    "    \n",
    "    if 0<=x<=1:\n",
    "        \n",
    "        while error_bound>0.0001:\n",
    "            n+=1\n",
    "            error_bound = (x**(2*n+1))/(2*n+1)\n",
    "            \n",
    "        for i in range(0, n-1): \n",
    "            a+=((-1)**i)*(x**(2*i+1))/(2*i+1)\n",
    "        deg_n= 2*n+1\n",
    "            \n",
    "        return a, deg_n, error_bound\n",
    "        \n",
    "    else:\n",
    "        print(\"Error!\")\n",
    "\n",
    "print (kritik(anything))\n"
   ]
  },
  {
   "cell_type": "code",
   "execution_count": null,
   "id": "2fe81baa-0f52-4854-b78f-1368419ed92c",
   "metadata": {},
   "outputs": [],
   "source": []
  }
 ],
 "metadata": {
  "kernelspec": {
   "display_name": "Python 3 (ipykernel)",
   "language": "python",
   "name": "python3"
  },
  "language_info": {
   "codemirror_mode": {
    "name": "ipython",
    "version": 3
   },
   "file_extension": ".py",
   "mimetype": "text/x-python",
   "name": "python",
   "nbconvert_exporter": "python",
   "pygments_lexer": "ipython3",
   "version": "3.11.4"
  }
 },
 "nbformat": 4,
 "nbformat_minor": 5
}
