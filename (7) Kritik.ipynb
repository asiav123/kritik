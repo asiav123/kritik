{
 "cells": [
  {
   "cell_type": "code",
   "execution_count": 4,
   "id": "f9a39265-2adc-474f-967b-353cf3586f92",
   "metadata": {},
   "outputs": [
    {
     "name": "stdout",
     "output_type": "stream",
     "text": [
      "t0: 2.290087686017293\n",
      "t*: 2.2522252225222523\n",
      "t0 ∈ [-t*, t*]: False\n",
      "Standard Deviation: 10.193467189005581\n"
     ]
    }
   ],
   "source": [
    "import numpy as np\n",
    "from scipy.special import gamma\n",
    "\n",
    "# Define the t_distribution_pdf function\n",
    "def t_distribution_pdf(x, nu):\n",
    "    \"\"\"\n",
    "    Compute the probability density of the t-distribution\n",
    "    at a given point x with nu degrees of freedom.\n",
    "    Parameters:\n",
    "    x (float): The point at which to evaluate the density.\n",
    "    nu (int): The degrees of freedom of the t-distribution.\n",
    "    Returns:\n",
    "    density (float): The probability density at point x for\n",
    "    the t-distribution with nu degrees of freedom.\n",
    "    \"\"\"\n",
    "    coeff = gamma((nu + 1) / 2) / (np.sqrt(nu * np.pi) * gamma(nu / 2))\n",
    "    density = coeff * (1 + x**2 / nu) ** (-0.5 * (nu + 1))\n",
    "    return density\n",
    "\n",
    "#computing the mean of the list of data\n",
    "def compute_mean(data):\n",
    "    return sum(data) / len(data)\n",
    "\n",
    "#computeing the standard deviation of the list of data\n",
    "def compute_std_dev(data):\n",
    "    mean = compute_mean(data)\n",
    "    variance = sum((x - mean) ** 2 for x in data) / (len(data) - 1)\n",
    "    return variance ** 0.5\n",
    "\n",
    "#defining function to compute t0\n",
    "def compute_t0(data, mu):\n",
    "    n = len(data)\n",
    "    x_bar = compute_mean(data)\n",
    "    s = compute_std_dev(data)\n",
    "    return (x_bar - mu) / (s / np.sqrt(n))\n",
    "\n",
    "#defining function to find t*\n",
    "def find_t_star(prob, nu, x_start=0, x_end=20, num_points=10000):\n",
    "    x = np.linspace(x_start, x_end, num_points)\n",
    "    y = t_distribution_pdf(x, nu)\n",
    "    cdf = np.cumsum(y) * (x[1] - x[0])\n",
    "    target_half_prob = prob / 2\n",
    "    index = np.where(cdf >= target_half_prob)[0][0]\n",
    "    return x[index]\n",
    "\n",
    "#defining function to compare t0 with t*\n",
    "def compare_t0_t_star(t0, t_star):\n",
    "    return abs(t0) <= t_star\n",
    "\n",
    "#test scores of students\n",
    "test_scores = [92.64, 79.00, 84.79, 97.41, 93.68, 65.23, 84.50, 73.49, 73.97, 79.11]\n",
    "\n",
    "#average of national math test scores, concluding if mu=75 is true or false\n",
    "mu0 = 75\n",
    "\n",
    "#computing t0\n",
    "t0 = compute_t0(test_scores, mu0)\n",
    "\n",
    "#finding t* for sample size with 0.95 certainty\n",
    "t_star = find_t_star(0.95, len(test_scores) - 1)\n",
    "\n",
    "#comparing t0 to t*\n",
    "result = compare_t0_t_star(t0, t_star)\n",
    "\n",
    "print(\"t0:\", t0)\n",
    "print(\"t*:\", t_star)\n",
    "print(\"t0 ∈ [-t*, t*]:\", result)\n",
    "\n",
    "#calculating the st dev\n",
    "std_dev = compute_std_dev(test_scores)\n",
    "print(\"Standard Deviation:\", std_dev)"
   ]
  },
  {
   "cell_type": "code",
   "execution_count": null,
   "id": "61aad6e1-0664-4420-b929-f83b2c5ba72d",
   "metadata": {},
   "outputs": [],
   "source": []
  }
 ],
 "metadata": {
  "kernelspec": {
   "display_name": "Python 3 (ipykernel)",
   "language": "python",
   "name": "python3"
  },
  "language_info": {
   "codemirror_mode": {
    "name": "ipython",
    "version": 3
   },
   "file_extension": ".py",
   "mimetype": "text/x-python",
   "name": "python",
   "nbconvert_exporter": "python",
   "pygments_lexer": "ipython3",
   "version": "3.11.4"
  }
 },
 "nbformat": 4,
 "nbformat_minor": 5
}
